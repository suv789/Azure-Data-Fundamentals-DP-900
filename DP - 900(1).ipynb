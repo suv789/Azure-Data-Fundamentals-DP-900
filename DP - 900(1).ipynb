{
 "cells": [
  {
   "cell_type": "markdown",
   "id": "37fc549f",
   "metadata": {},
   "source": [
    "## Core Data Realated Azure Services:"
   ]
  },
  {
   "cell_type": "markdown",
   "id": "1f42f7b8",
   "metadata": {},
   "source": [
    "Types of Clouds Services:\n",
    "* _**SaaS (Software as a Service)**_: A Product that is run & managed by the sevice provider.(Don't worry about how the sevice is maintained. It just works and remain available. eg.Power bi, Office 365. **This is for Customers**.\n",
    "\n",
    "\n",
    "* _**Paas (Platform as a Service)**_: Focus on the deployement and management of your apps.(Don't worry about Provisioning, Configuring or Understanding the hardware or OS) eg. Azure SQL, CosmosDB , Managed Sql, HDinsights. **This is for Developers**.\n",
    "\n",
    "\n",
    "* _**Iaas(Infrastructure as a Service)**_: The basic building blocks for Cloud IT. Provide access to networking features, Computers and data storage space (Don't worry about IT staff, data centre, and hardware). eg. SQL VM , Azure Dicks, Virtual Machines. **This is for Admines**."
   ]
  },
  {
   "cell_type": "markdown",
   "id": "31ca7fee",
   "metadata": {},
   "source": [
    "## Azure Data Role:"
   ]
  },
  {
   "cell_type": "markdown",
   "id": "2b365158",
   "metadata": {},
   "source": []
  },
  {
   "cell_type": "markdown",
   "id": "d9bfc979",
   "metadata": {},
   "source": [
    "### Database Administrator - Common Tools"
   ]
  },
  {
   "cell_type": "markdown",
   "id": "9ffff9ac",
   "metadata": {},
   "source": [
    "#### **Azure Data Studio:**\n",
    "Connect to Azure SQL, Azure Sql data warehouse, Postgre sql, and sql server(big data clusters, on-premises)\n",
    "\n",
    "> * Various libraries and extensions along with automation tools.\n",
    "> * Graphical interface for managing on-premises and cloud-based data services.\n",
    "> * runs on Windows, macOS, Linux\n",
    "> * Possibly a replacement for SSMS (still lacks some features of SSMS)"
   ]
  },
  {
   "cell_type": "markdown",
   "id": "52c8aa7c",
   "metadata": {},
   "source": [
    "**SQL SERVER Management Studio (SSMS):**\n"
   ]
  },
  {
   "cell_type": "markdown",
   "id": "97576e1d",
   "metadata": {},
   "source": [
    "> * Automation tooling for running SQL commands or common database operations\n",
    "> * Graphical interface for managing on-premises and cloud-based data driven servies\n",
    "> * Runs on Windows\n",
    "> * More mature than azure data studio"
   ]
  },
  {
   "cell_type": "markdown",
   "id": "4ed4357f",
   "metadata": {},
   "source": [
    "**Azure Portal and CLI:**"
   ]
  },
  {
   "cell_type": "markdown",
   "id": "6a461dc5",
   "metadata": {},
   "source": [
    "> * Manage SQL database configurations. eg. create, delete, resizing, number of cores\n",
    "> * Manage and provision other Azure Data Servies\n",
    "> * Automate the creating, updating or modifying resources via Azure Resourse Manger templates (Iac)\n"
   ]
  },
  {
   "cell_type": "markdown",
   "id": "d9ee4639",
   "metadata": {},
   "source": [
    "### Data Engineering Common Tools"
   ]
  },
  {
   "cell_type": "markdown",
   "id": "5331badc",
   "metadata": {},
   "source": [
    "**Azure Synapse Studio:**"
   ]
  },
  {
   "cell_type": "markdown",
   "id": "832ce94f",
   "metadata": {},
   "source": [
    "* > azure portal integrated to manage azure synapse, data ingestion(Azure data factory), management of azure synapse assests(SQL Pools/ Spark Pool)"
   ]
  },
  {
   "cell_type": "markdown",
   "id": "fe44acc4",
   "metadata": {},
   "source": [
    "**Knowledge Sql** "
   ]
  },
  {
   "cell_type": "markdown",
   "id": "d26f3289",
   "metadata": {},
   "source": [
    "> * Create Database, tables, views, etc."
   ]
  },
  {
   "cell_type": "markdown",
   "id": "02b5ff0f",
   "metadata": {},
   "source": [
    "**Azure CLI** "
   ]
  },
  {
   "cell_type": "markdown",
   "id": "70af8b2a",
   "metadata": {},
   "source": [
    "> * Support operations SQL cmd to connect to Microsoft server Azure SQL dataand run a talk queries  and commands"
   ]
  },
  {
   "cell_type": "markdown",
   "id": "370a8540",
   "metadata": {},
   "source": [
    "**HDinsights**"
   ]
  },
  {
   "cell_type": "markdown",
   "id": "9f89bad2",
   "metadata": {},
   "source": [
    "> * Streaming data via Apache Kafka or Apache Spark Appling ELT jobs via HIVE,PIG, Apache Spark"
   ]
  },
  {
   "cell_type": "markdown",
   "id": "86bee0ae",
   "metadata": {},
   "source": [
    "**Azure Databricks**"
   ]
  },
  {
   "cell_type": "markdown",
   "id": "20cef3e2",
   "metadata": {},
   "source": [
    "> * Using Apache Spark to create ELT or streaming jobs to dataware houses or data lakes\n"
   ]
  },
  {
   "cell_type": "markdown",
   "id": "b9c0aa74",
   "metadata": {},
   "source": [
    "### Data Analyst Common Tools"
   ]
  },
  {
   "cell_type": "markdown",
   "id": "fe24c8d3",
   "metadata": {},
   "source": [
    "> * _Power bi Desktop_: A standalone application for data visualization you can do modeling , connect to many data sources, Create interactive repots.\n",
    "\n",
    "> * _Power bi Portal/ Power bi services_ : A web ui for creating interactive dashboards\n",
    "\n",
    "> * _Power bi Report builder_: Create paginated reports(printable reports)"
   ]
  },
  {
   "cell_type": "markdown",
   "id": "60eb21ae",
   "metadata": {},
   "source": [
    "### Data Overview"
   ]
  },
  {
   "cell_type": "markdown",
   "id": "624580b6",
   "metadata": {},
   "source": [
    " > * Data - units of information\n",
    "    > * Data Documents - Types of abstract grouping of data\n",
    "        > * Data sets - unstructured logical grouping of data\n",
    "            > * Data Structures - structure data\n",
    "                > * Data Types - how single units of data are intended to used"
   ]
  },
  {
   "cell_type": "markdown",
   "id": "c21043cc",
   "metadata": {},
   "source": [
    "### Introduction to Data"
   ]
  },
  {
   "cell_type": "markdown",
   "id": "8565b7b9",
   "metadata": {},
   "source": [
    "**What is data?**\n",
    "> * Data is units of information that could be in the form of number, text or machine code, images, videos, audio or physical(handwriting)."
   ]
  },
  {
   "cell_type": "markdown",
   "id": "82ea0683",
   "metadata": {},
   "source": [
    "###### **What are data documents?**\n",
    " A data documents defines the collective form in which data exists. Common types of data documents:\n",
    "> * **Datasets** - a logical grouping of data\n",
    "> * **Databases** - structured data that can be quickly access and searched\n",
    "> * **Datastores** - unstructured or semi-structured data to housing data\n",
    "> * **Data Warehouses** - structured or semi-structured data for creating reports and analytics\n",
    "> * **Notebooks** - data that is arranged in pages, designed for easy consumption"
   ]
  },
  {
   "cell_type": "markdown",
   "id": "737f9704",
   "metadata": {},
   "source": [
    "### Data sets\n",
    "**What is a Dataset**?\n",
    "> * A dataset is a **logical grouping of units** of data that generally are closely realted and/or share the same data structure.\n",
    "there are publicly available data sets that are used in the learning of statistics, data analytics, machine learning\n",
    " >> **MNIST DATABASE** Images of handwritten digits used to test classification, clustering, and image processing algorithm.\n",
    "     >> **Common Objects in Context(COCO)** dataset, a dataset which contains many common images using a JSON file (coco format) that indentify objects or segments within an image."
   ]
  },
  {
   "cell_type": "markdown",
   "id": "d88fa605",
   "metadata": {},
   "source": [
    "**What is a data types?**\n",
    ">> A data type is a single unit of data that tells a compiler or interpreter(computer program) how data is intended to be used.\n",
    "        >> * _Numeric data types_: A data type involving mathematical numbers.\n",
    "             >>> * **Integer** - a whole number(negative or positive) - 100, 7, 11, 213454\n",
    "             >>> * **Float** - a number that has a decimal e.g. 1.5, 2.2 , 10.4\n",
    "        >> * _Text Data types_ - a data type that contains readable and non readable letters.\n",
    "             >>> * **Character** - a single letter, alphanumeric(A-Z), digit(0-9), blank space, punction, special character($%&*@)\n",
    "            >>> * **String** - a sequence of character. e.g. words, sentences and paragraphs\n",
    "        >> * _Composite_: a data types that contains cells of data that can be accessed via an index or a key\n",
    "             >>> * **Array** - a group of elements that contain the same data type, can be accessed via their index(position)\n",
    "             >>> * **Hash (Dictionary)** - a group of elements where a key can be used retrive a value\n",
    "        >> * _Binary Data Types_ : represented by a **bit or a series of bits(a byte)**, Which is either 0(off) or 1 (on)\n",
    "        >> some languages represents a Boolean as\n",
    "             >>> * a bit as a Boolean eg. 0(false) or 1(true)\n",
    "             >>> * the first letter eg. t(true) or f(false)\n",
    "             >>> * e.g **my_bool = True**\n",
    "        >> * _Enummeration (Enum) Data Type_ - a group of constant (unchangeble) variables e.g. DIAMOND, SPADE, HEART, CLUBS\n",
    "             >>> * Can be a data type and/or a data structure, varies on the language.\n",
    "             "
   ]
  },
  {
   "cell_type": "code",
   "execution_count": 1,
   "id": "5e202101",
   "metadata": {},
   "outputs": [
    {
     "data": {
      "text/plain": [
       "' class Shake(Enum):\\n    VANILLA = 7\\n    CHOCOLATE = 4\\n    COOKIES = 9\\n    MINT = 3\\nShake.VANILLA\\nShake.CHOCOLATE '"
      ]
     },
     "execution_count": 1,
     "metadata": {},
     "output_type": "execute_result"
    }
   ],
   "source": [
    "## example of Enum\n",
    "''' class Shake(Enum):\n",
    "    VANILLA = 7\n",
    "    CHOCOLATE = 4\n",
    "    COOKIES = 9\n",
    "    MINT = 3\n",
    "Shake.VANILLA\n",
    "Shake.CHOCOLATE '''"
   ]
  },
  {
   "cell_type": "markdown",
   "id": "9781eb4b",
   "metadata": {},
   "source": [
    "### Schema vs Schemaless"
   ]
  },
  {
   "cell_type": "markdown",
   "id": "a849df9b",
   "metadata": {},
   "source": [
    "**What is a schema?**\n",
    "> * A schema(in terms of databases) is a **formal language which describe the structure of data**(blueprint) of a database.\n",
    "A schema can define many different data structures that serve different purposes for a database.\n",
    "\n",
    "Different data structures(relational databases):\n",
    "> * Tables    \n",
    "> * Fields\n",
    "> * Relationships\n",
    "> * Views\n",
    "> * Indexes\n",
    "> * Packages\n",
    "> * Procedures\n",
    "> * Functions\n",
    "> * XML schemas\n",
    "> * Queues\n",
    "> * Triggers\n",
    "> * types\n",
    "> * Sequences\n",
    "> * materiallized views\n",
    "> * Synonyms\n",
    "> * database links\n",
    "> * Directories"
   ]
  },
  {
   "cell_type": "markdown",
   "id": "ef5b9bfb",
   "metadata": {},
   "source": [
    "**What is a schemaless?** \n",
    "> Schemaless is when the **primary \"cell\" of database can accept many types.**\n",
    "This allow developers to forgo upfront data modeling.\n",
    "\n",
    "> Common schemaless databases are:\n",
    "> * Key/Value\n",
    "> * Document\n",
    "> * Columns\n",
    ">>* Wide Column\n",
    "> * Graph"
   ]
  },
  {
   "cell_type": "markdown",
   "id": "f6fc91e3",
   "metadata": {},
   "source": [
    "### Query and Querying\n",
    "\n",
    "> **What is Query?**\n",
    ">> A query is request for data results(reads) or to perform operations such as inserting, updating, deleting data(writes).\n",
    ">> A query can perform maintenance operations on the data and is not always restricted to just working with the data that resides within the database.\n",
    "\n",
    "> **What is a data result?**\n",
    ">> Results are the data returned from a query.\n",
    "\n",
    "> **What is querying?**\n",
    ">> That act of performing a query.\n",
    "\n",
    "> **What is query language?**\n",
    ">> A scripting or programming language designed as the format to submit a request or actions to the database. e.g. SQL, GraphSQL, kusto, Xpath, Gremlin"
   ]
  },
  {
   "cell_type": "markdown",
   "id": "15f0ac7a",
   "metadata": {},
   "source": [
    "### Batch vs Stream processing\n",
    "\n",
    "**_Batch Processing_**\n",
    "> * When you send batches (a collection) of data to be processed.\n",
    "> * Baches are generally scheduled: e.g Every day at 1pm\n",
    "> * Baches are not real-time\n",
    "> * Baches processing is ideal for very large processing workloads\n",
    "> * Batch processing is more cost-effective\n",
    "\n",
    "**_Stream Processing_**\n",
    "\n",
    "WHEN you process data as soon as it arrives:\n",
    ">> * produces will send data to a stream and \n",
    ">> * Consumers will pull from the stream\n",
    "\n",
    "**Stream processing is good for real time analytics or real-time processing(streaming video) Much more expensive than batch processing**"
   ]
  },
  {
   "cell_type": "markdown",
   "id": "5dc1d41f",
   "metadata": {},
   "source": [
    "### Relational Data"
   ]
  },
  {
   "cell_type": "markdown",
   "id": "2143c183",
   "metadata": {},
   "source": [
    "A logical grouping of rows and columns. Think like a Excel spreadsheet\n",
    ">> * _Tabular data_ - data that makes use of table data structures.\n",
    ">> * _Views_ - Views is a result set of a stored query on data stored in memory(a temporary or virtual table)\n",
    ">> * _Materialized Views_ - Material Views is result set of stored query on data stored on disk\n",
    ">> * _Indexes_ - a copy of your data sorted by one or multiple columns for faster reads at the cost of storage\n",
    ">> * _Constraints_ - rules applied to writes , that can ensure data integrity: e.g. don't allow duplicate records.\n",
    ">> * _Triggers_ - A function that trigger a specific database events.\n",
    ">> * _Primary key_ - one or multiple columns that uniquely identify a table in a row eg.id,customer_id etc.\n",
    ">>* _Forgien Key_ - a column which holds the value of primary key from another key to establish a relationship\n",
    ">>> * A relationship is when two tables have a reference to one another to join together"
   ]
  },
  {
   "cell_type": "markdown",
   "id": "c203a82d-b074-4e9b-8b6a-e0bbb982b3d7",
   "metadata": {},
   "source": [
    "### Relational Data - Relationship"
   ]
  },
  {
   "cell_type": "markdown",
   "id": "861ec234-6426-466d-a0f5-b45663582083",
   "metadata": {},
   "source": [
    "Relational database establish relationships to other tables via foreign keys referencing another table's primary key.\n",
    "\n",
    "> There are the relationships found in a relational data:\n",
    "> * One to one (e.g. a monkey has a banana)\n",
    "> * One to Many (e.g. A store has many customers)\n",
    "> * Many to many (e.g. A project has many tasks and Tasks can belong to many projects)\n",
    "> * Many to Many (via join/ Function table) e.g. A student has many classes through enrollments\n",
    "  "
   ]
  },
  {
   "cell_type": "markdown",
   "id": "824ebf23-f429-4607-a274-aeaa880d0368",
   "metadata": {},
   "source": [
    "### Row store vs column store "
   ]
  },
  {
   "cell_type": "markdown",
   "id": "0c796dd9-2928-4b98-9588-16c7b00db22a",
   "metadata": {},
   "source": [
    "When looking at tabular data there are two ways data can be stored:\n",
    ">> Row-store or Column Store\n",
    ">>> Row store\n",
    ">>> > * Data is organized in rows\n",
    ">>> > * Traditional relational database are row-stores\n",
    ">>> > * Good for general purpose database\n",
    ">>> > * Suited for Online transaction processing(OLTP)\n",
    ">>> > * Great when needing all possible columns in a rows is important\n",
    ">>> > * Not the best all analytics or massive amounts of data\n",
    "\n",
    ">>> Column-Store\n",
    ">>> > * Data is organized into columns\n",
    ">>> >> * Faster at aggerating values for analytics.\n",
    ">>> >* NoSQL store or SQL-Like databases\n",
    ">>> >* Great for vast amount of data\n",
    ">>> >* Suited for Online analytical processing (OLTP)\n",
    ">>> >* Great when you only need a few columns"
   ]
  },
  {
   "cell_type": "markdown",
   "id": "72b1e8a5-8640-40fb-893d-5006a57df2ea",
   "metadata": {},
   "source": [
    "### Database Indexes\n",
    "A database index **is a data structure that improves the speed of reads from  the database table** by storing the same or partial redundant data organized in a more efficient logical order.\n",
    "\n",
    "The logical ordering is commonly determined by one or more columns: sort keys(s)\n",
    "\n",
    "A common data-structure of an index is a Balanced Tree(B-Tree)\n",
    "\n",
    "**Creating an Index in Postgres:**\n",
    "CREATE INDEX idx_address_phone\n",
    "ON address(phone)\n",
    "\n"
   ]
  },
  {
   "cell_type": "markdown",
   "id": "3a6e83b0-f763-4588-8bf1-0222284c597a",
   "metadata": {},
   "source": [
    "### Data integrity and Data Corruption\n",
    "\n",
    "**Data integrity** is the **maintenance and assuranced of, data accuracy and cosistency** over its entire life-cycle. \n",
    "\n",
    ">The goal of data integrity:\n",
    ">> **ensure data is recorded exactly as intended.**\n",
    ">> **Data integrity is the opposite of Data Corruption.**\n",
    "\n",
    ">> Used at as proxy term for data quality, data validation is a pre-requisite for data integrity\n"
   ]
  },
  {
   "cell_type": "markdown",
   "id": "a639f7a6-7630-40c3-9867-a21db0b11541",
   "metadata": {},
   "source": [
    "**Data corruption** is the **act of state of data not being in the intended state** and will result in data loss or misinformation Data corruption occurs when untended changes result when reading and writing:\n",
    "* Unexpected hardware failure\n",
    "* Human error when inputting, modifying data\n",
    "* Malicious actors with intent of currupting your data\n",
    "* Unforeseen side affets for automated operations via computer code\n",
    "\n",
    "**How do we ensure data integrity?**\n",
    "* Have a well defined and documented data modeling\n",
    "* Logical constraints on your databases items\n",
    "* Redundant and versions of your data to compare and restore\n",
    "* Human analysis of the data\n",
    "* Hash functions to determine if changes have been tampered\n",
    "* Principle of least-privilege,(limiting access to specific actions for specific user roles)"
   ]
  },
  {
   "cell_type": "markdown",
   "id": "7c3e6153-f0e3-4ca2-a940-c56fbdc0ed81",
   "metadata": {},
   "source": [
    "### Normalized vs Denormalized data"
   ]
  },
  {
   "cell_type": "markdown",
   "id": "e0c76232-c5d8-448f-8dde-5531c19d9d7e",
   "metadata": {},
   "source": [
    "**Normalized**\n",
    "A schema desing to store non-redundent and consistent data\n",
    ">> * Data Integrity is maintained\n",
    ">> * Little to no redundant data\n",
    ">> * Many tables\n",
    ">> * Optimizes for storage of data\n",
    "\n",
    "**Denormalized**\n",
    "A schema that combines data so that acessing data(querying) is fast\n",
    ">> * Data Integrity is not maintained\n",
    ">> * Redundant data is common\n",
    ">> * Fewer tables\n",
    ">> * Excessive data,storage is less optimal\n"
   ]
  },
  {
   "cell_type": "markdown",
   "id": "a2748013-57be-4773-9901-05dedfa2e741",
   "metadata": {},
   "source": [
    "***Pivot Table***\n",
    "> * A privot table is a table of statistics that summarizes the data of more extensive table from a : Database, Spreadsheet or Business intelligence(BI) tool.\n",
    "> * Pivot tables are a technique in data processing\n",
    "> * They arrange and rearrange(or \"pivot\") statistics in order to draw attention to useful information\n",
    "> * This leads to finding figures and facts quickly making them integral to data analytics"
   ]
  },
  {
   "cell_type": "markdown",
   "id": "e34f95cd-1327-48f5-ab73-437fb785a9ce",
   "metadata": {},
   "source": [
    "### Data Strongly Consistent vs Eventually Consistent"
   ]
  },
  {
   "cell_type": "markdown",
   "id": "f7731721-133f-4cf2-a4eb-1bafec266f72",
   "metadata": {},
   "source": [
    "**What is data consistency?**\n",
    "> When data being kept in two different place and **whether the data exactly match** or do not match\n",
    "\n",
    "> When you have to have duplicates of your data in many places and need to keep them up-todate to be exact matching, based on how data is transmitted and service levels cloud service providers will use these two terms:\n",
    "\n",
    "**Strongly Consistent**\n",
    "Every time you request data(query) you can expect consistent data to be returned with x time(1 seconds)\n",
    "\n",
    "We will never return to you old data, But you will have to wait at least 2 seconds for the query to return.\n",
    "\n",
    "**Eventually Consistent**\n",
    "When you request data you may get back inconsistent data within 2 seconds.\n",
    "\n",
    "We are giving you whatevr data is currently in the database, you may get new data or old data, but if you wait a little bit longer it will generally be up to date."
   ]
  },
  {
   "cell_type": "markdown",
   "id": "fac3d097-72cc-465d-8ed9-618aee4045ed",
   "metadata": {},
   "source": [
    "### Synchronus Vs Asynchronous"
   ]
  },
  {
   "cell_type": "markdown",
   "id": "2a62f03c-0bb9-42fe-a1b5-84f5294a5c24",
   "metadata": {},
   "source": [
    "Synchronous and Asynchronus can refer to **mechanism for data transmission or data replication**\n",
    "\n",
    "**Synchronous:**\n",
    "continuous stream of data that is synchronized by a timer or clock(guarantee of time)\n",
    "can only access data once transfer is complete\n",
    "> * Guaranteed consistency of data return at time of access\n",
    "> * Slower access times\n",
    ">> * e.g.  A company has a primary database, but they need to have a backup databaes in case their primary database fails. The company cannot lose any data, so everything must be in-sync. The database is not going to be accessed while it is standing by to act as replacement.\n",
    "\n",
    "**Asynchronous:**\n",
    "continuous stream of data separated by start and stop bits(no guarantee of time)\n",
    "can access data anytime but may return older version or empty placeholder\n",
    "> * Faster access times, not guarantee of consistency.\n",
    ">> * e.g. A company has a primary database, but they want a read-replica (copy of the database) so their data analytics person can create computational intensive reports that do not impact the primay database. It does not matter if the data is exactly 1-to-1 at time of acess"
   ]
  },
  {
   "cell_type": "markdown",
   "id": "faa3f7e6-6c36-4805-9ff9-805c3327778f",
   "metadata": {},
   "source": [
    "### Non-relational data"
   ]
  },
  {
   "cell_type": "markdown",
   "id": "eca5869c-6f0b-4153-87b1-fcb3091194d7",
   "metadata": {},
   "source": [
    "A non-relational database **stores data in a non-tabular form** and will be optimized for different kinds of data structures.\n",
    "**Types of non-relationl database:**\n",
    "\n",
    "\n",
    "**key/value**\n",
    "> * Each value has a key\n",
    "> * Designed to scale\n",
    "> * Only simple lookups\n",
    "\n",
    "**Document**\n",
    "> * Primary entity is a JSON-like data-structure called a document\n",
    "\n",
    "\n",
    "**Columnar**\n",
    "> * Has a table-like structure but data is stored around columns instead of rows\n",
    "\n",
    "**Graph**\n",
    "> * Data is represented with nodes and structures. Where relationships matter\n",
    "\n",
    "\n",
    "**Sometimes non-relational database can be both key/value and Document e.g. Azure Cosmo DB or Amazon DynamoDB**"
   ]
  },
  {
   "cell_type": "markdown",
   "id": "228fe398-207f-4516-b759-a341b5689995",
   "metadata": {},
   "source": [
    "### Data Sources"
   ]
  },
  {
   "cell_type": "markdown",
   "id": "105d336f-dd52-46cf-99c3-2fa993e410a3",
   "metadata": {},
   "source": [
    "**What is a data source?**\n",
    "A data source is where data originates from.\n",
    "\n",
    "An analytical tool may be connected to various data sources to create a visualization or report\n",
    "\n",
    "**A data source could be a :**\n",
    "> * Data lake\n",
    "> * Data warehouse\n",
    "> * Datastore\n",
    "> * Database\n",
    "> * Data request on demand from an API endpoint from a web app\n",
    "> * Flat files(e.g. Excel, Spreadsheet)\n",
    "\n",
    "**Extracting data from data sources**\n",
    "A data tool like Business Intelligence (Bi) sofrware would establish a connection to multiple data sources. A BI will extract data which could be pull data at the time report, or could pull data on a schedule, or data could be streamd. The mechanism for extracting data will vary per data source."
   ]
  },
  {
   "cell_type": "markdown",
   "id": "af203223-b79d-4f87-aab9-80a6fc944d64",
   "metadata": {},
   "source": [
    "**What is Datastore?**\n",
    "\n",
    "A datastore a repository for persistently storing and managing collections of unstructured or semi-structured data.\n",
    "\n",
    "\n",
    "Data store is very broad term, and interchangeable used with databases. But generally a data store indicates working unstructured or semi-structured data.\n",
    "\n",
    "A data store can be specialized in storing:\n",
    "\n",
    "* Flat files(documets, spreadsheets)\n",
    "* Email (an email server)\n",
    "* Databases (complex data stores developed using formal desing and modeling techniques)\n",
    "  > * Relational Databases\n",
    "  > * NoSQL Databases\n",
    "  > * Object-Oriented Databases\n",
    "* Data store design to be distributing across many machines\n"
   ]
  },
  {
   "cell_type": "markdown",
   "id": "0dbfbb49-9a7f-4a57-8f41-f6b154267777",
   "metadata": {},
   "source": [
    "### Database"
   ]
  },
  {
   "cell_type": "markdown",
   "id": "52dcb45d-8d5a-4e5f-93bf-98b5414fb286",
   "metadata": {},
   "source": [
    "A database is a **data-store that stores semi-structured and structured data**.\n",
    "\n",
    "A database is more **complex data stores** because it **requires using formal desing and modeling technique**.\n",
    "\n",
    "Databases can be generally categorized as either:\n",
    "> * **Relational databases**\n",
    ">> * Structured data that storongly represents tabular data(tables,rows and columns)\n",
    ">>> * Row-oriented  or Columnar-oriented\n",
    ">>>\n",
    "\n",
    "> * **Non-relational databases**\n",
    "> > * Semi-structured that may or may not distantly resemble tabular data.\n",
    "\n",
    "Databases have a rich set of functionlity\n",
    "* specialized language to query(retrieve data)\n",
    "* specialized modeling strategies to optimize retrieval for different use cases\n",
    "* more fine tune control over the transformation of the data into useful data structures or reports"
   ]
  },
  {
   "cell_type": "markdown",
   "id": "ae1990f2-6a41-43bc-bee6-596d50055225",
   "metadata": {},
   "source": [
    "### Data warehouse"
   ]
  },
  {
   "cell_type": "markdown",
   "id": "70afd5f1-e3c1-44d4-a448-af0e84c8eb75",
   "metadata": {},
   "source": [
    "A relational datastore desinged for  analytic workloads, which is generally column-oriented data-store.\n",
    "\n",
    "Companies will have terabyte and millinons of rows of data, and they need a fast way to be able to produce analytics reports\n",
    "\n",
    "Data warehouse generally perfrom aggregation\n",
    "> * aggregation is grouping data e.g. find a total or average\n",
    "> * Data warehouse are optimized around columns since they need to quickly aggregate column data\n",
    "\n",
    "Data warehouse are generally designed be HOT\n",
    "\n",
    "* Hot means they can returned queries very very fast even though they have vast amounts of data\n",
    "\n",
    "Data warehouse are infrequently accessed meaning they aren't intended for real-time reporting but maybe once or twice a day or onece a week to generate and user reports."
   ]
  },
  {
   "cell_type": "markdown",
   "id": "88757cb0-ba7f-4a6e-b280-b6836a429c17",
   "metadata": {},
   "source": [
    "### Data Mart"
   ]
  },
  {
   "cell_type": "markdown",
   "id": "fd41d61e-796c-4d7c-944c-4136cec274a2",
   "metadata": {},
   "source": [
    "**What is Data Mart?**\n",
    "\n",
    "A Data mart subset of a data warehouse.\n",
    "A Data mart will store under **100 GB and has a single business focus**\n",
    "\n",
    "Data mart follow different teams or departments to have control over their own dataset for their specific use case.\n",
    "\n",
    "Data marts are generally desingned be **read-only**.\n",
    "\n",
    "Data marts also increase the frequency at which data can be accessed.\n",
    "\n",
    "The cost to query the data is much lower and so queries can be performed multiple times a day or even hourly.\n",
    "\n"
   ]
  },
  {
   "cell_type": "markdown",
   "id": "a61348ee-4bb0-4d67-8657-8b3a2e75dd6e",
   "metadata": {},
   "source": [
    "### Data Lake\n",
    "**What is a Data Lake?**\n",
    "\n",
    "A data lake is **a centralized storage repository that holds a vast amount of raw data**(big data) in either a semi-structured or unstructured format.\n",
    "\n",
    "A data lakes lets you store all your data without careful design or having to answer question on the future use of the data. (Holding for data scientist)\n",
    "\n",
    "A data lake is commonly accessed for data workloads such as:\n",
    "\n",
    "* Visualizations (Business Intelligence) X\n",
    "* Real time anlytics\n",
    "* Machine learning\n",
    "* On-premise data\n",
    "\n",
    "Data lakes are great for data scientist but its very hard to use data lake for BI reporting.\n",
    "\n",
    "If data lakes are not well-maintained they can become **data-swamps**(a mess of data)"
   ]
  },
  {
   "cell_type": "markdown",
   "id": "6faef3c3-4523-4e46-a291-87c36fd10e81",
   "metadata": {},
   "source": [
    "### Data lakehouse\n",
    "\n",
    "A data Lakehouse combines the best elements of a **data lake** and a **data warehouse**\n",
    "\n",
    "Data Lakehouse compared to a Data warehouse can:\n",
    "\n",
    "* support video, audio, and text files\n",
    "* support data science and ML workloads\n",
    "* have support for both streaming and ELT\n",
    "* work with many open-source format\n",
    "* Data will generally reside in a data lake or blob stores\n",
    "\n",
    "\n",
    "Data lakehouse compared to a Data Lakes can:\n",
    "\n",
    "* perform BI tasks very well\n",
    "* much easier to setup and maintain\n",
    "* has management features to avoid a data lake becoming a data swamp\n",
    "\n",
    "e.g. DELTA Lake An example of a Data Lakehouse is **Apache Delta Lake**"
   ]
  },
  {
   "cell_type": "markdown",
   "id": "f733757b-7a9d-4ee3-8f8e-c68300383e3d",
   "metadata": {},
   "source": [
    "### Data structures\n",
    "\n",
    "**What is a Data Structure?**\n",
    "\n",
    "Data that is organized in a **specific storage format**, that enable easy access and modification.\n",
    "A data structure can store various data types.\n",
    "\n",
    "Data can be abstractly described to have a degree of structure:\n",
    "\n",
    "**Unstructured** - a bunch of lose data that has no organization or possibly relation. e.g. screenshot \n",
    "\n",
    "**Semi-Structured** - data that can be browsed or searched(with limitations e.g. XML\n",
    "\n",
    "**Structured** - data that can be easily browsed or searched. e.g. relational database\n",
    "\n",
    "\n",
    "**What is Unstructured data?**\n",
    "\n",
    "Unstructured data is just bunch of lose data, think of a junk folder on your computer with bunch of random files, not optimized for search or analysis, or simply no relation between various data\n",
    "\n",
    ">>> **Microsoft and Azure services that store unstructured data**\n",
    "\n",
    "**Microsoft share point** - shared documents for an organization\n",
    "\n",
    "**Azure Blob Storage** - Unstructured object datastore\n",
    "\n",
    "**Azure Files** - Mountable file system for storing unstructured files\n",
    "\n",
    "**Azure Data lake** - For bid data, can ingest From many data sources\n",
    "\n",
    "\n",
    "\n",
    "**What is Semi-Structured data?**\n",
    "\n",
    "Semi-structured data is (*no schema) data has some form of relationship, its easy to browse data to find related data, you can search data but there are limitations or when you search you will pay at a computative or operatoinal cost.\n",
    "\n",
    "Concreate semi-structure data structures:\n",
    "\n",
    "* XML, JSON, AVRO, PARQUET\n",
    "\n",
    "  >>> **Azure and other services that store semi-structured data**\n",
    "\n",
    "\n",
    "**Azure Tables** - A key/value data store\n",
    "\n",
    "**Azure Cosmos DB** - A document data store designed for global scale\n",
    "\n",
    "**Mongo Db** - Open-source document store NoSQL database\n",
    "\n",
    "**Apache Cassandra** - Open source wide-"
   ]
  },
  {
   "cell_type": "code",
   "execution_count": null,
   "id": "3ec02313-3fe4-4fa0-9b29-a2c4475d5280",
   "metadata": {},
   "outputs": [],
   "source": []
  },
  {
   "cell_type": "code",
   "execution_count": null,
   "id": "2a09e21b-36e3-4784-897f-b6150589163a",
   "metadata": {},
   "outputs": [],
   "source": []
  }
 ],
 "metadata": {
  "kernelspec": {
   "display_name": "Python 3 (ipykernel)",
   "language": "python",
   "name": "python3"
  },
  "language_info": {
   "codemirror_mode": {
    "name": "ipython",
    "version": 3
   },
   "file_extension": ".py",
   "mimetype": "text/x-python",
   "name": "python",
   "nbconvert_exporter": "python",
   "pygments_lexer": "ipython3",
   "version": "3.12.7"
  }
 },
 "nbformat": 4,
 "nbformat_minor": 5
}
