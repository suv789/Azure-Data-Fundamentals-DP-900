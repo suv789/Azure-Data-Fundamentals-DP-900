{
 "cells": [
  {
   "cell_type": "markdown",
   "id": "37fc549f",
   "metadata": {},
   "source": [
    "## Core Data Realated Azure Services:"
   ]
  },
  {
   "cell_type": "markdown",
   "id": "1f42f7b8",
   "metadata": {},
   "source": [
    "Types of Clouds Services:\n",
    "* _**SaaS (Software as a Service)**_: A Product that is run & managed by the sevice provider.(Don't worry about how the sevice is maintained. It just works and remain available. eg.Power bi, Office 365. **This is for Customers**.\n",
    "\n",
    "\n",
    "* _**Paas (Platform as a Service)**_: Focus on the deployement and management of your apps.(Don't worry about Provisioning, Configuring or Understanding the hardware or OS) eg. Azure SQL, CosmosDB , Managed Sql, HDinsights. **This is for Developers**.\n",
    "\n",
    "\n",
    "* _**Iaas(Infrastructure as a Service)**_: The basic building blocks for Cloud IT. Provide access to networking features, Computers and data storage space (Don't worry about IT staff, data centre, and hardware). eg. SQL VM , Azure Dicks, Virtual Machines. **This is for Admines**."
   ]
  },
  {
   "cell_type": "markdown",
   "id": "31ca7fee",
   "metadata": {},
   "source": [
    "## Azure Data Role:"
   ]
  },
  {
   "cell_type": "markdown",
   "id": "2b365158",
   "metadata": {},
   "source": []
  },
  {
   "cell_type": "markdown",
   "id": "d9bfc979",
   "metadata": {},
   "source": [
    "### Database Administrator - Common Tools"
   ]
  },
  {
   "cell_type": "markdown",
   "id": "9ffff9ac",
   "metadata": {},
   "source": [
    "#### **Azure Data Studio:**\n",
    "Connect to Azure SQL, Azure Sql data warehouse, Postgre sql, and sql server(big data clusters, on-premises)\n",
    "\n",
    "> * Various libraries and extensions along with automation tools.\n",
    "> * Graphical interface for managing on-premises and cloud-based data services.\n",
    "> * runs on Windows, macOS, Linux\n",
    "> * Possibly a replacement for SSMS (still lacks some features of SSMS)"
   ]
  },
  {
   "cell_type": "markdown",
   "id": "52c8aa7c",
   "metadata": {},
   "source": [
    "**SQL SERVER Management Studio (SSMS):**\n"
   ]
  },
  {
   "cell_type": "markdown",
   "id": "97576e1d",
   "metadata": {},
   "source": [
    "> * Automation tooling for running SQL commands or common database operations\n",
    "> * Graphical interface for managing on-premises and cloud-based data driven servies\n",
    "> * Runs on Windows\n",
    "> * More mature than azure data studio"
   ]
  },
  {
   "cell_type": "markdown",
   "id": "4ed4357f",
   "metadata": {},
   "source": [
    "**Azure Portal and CLI:**"
   ]
  },
  {
   "cell_type": "markdown",
   "id": "6a461dc5",
   "metadata": {},
   "source": [
    "> * Manage SQL database configurations. eg. create, delete, resizing, number of cores\n",
    "> * Manage and provision other Azure Data Servies\n",
    "> * Automate the creating, updating or modifying resources via Azure Resourse Manger templates (Iac)\n"
   ]
  },
  {
   "cell_type": "markdown",
   "id": "d9ee4639",
   "metadata": {},
   "source": [
    "### Data Engineering Common Tools"
   ]
  },
  {
   "cell_type": "markdown",
   "id": "5331badc",
   "metadata": {},
   "source": [
    "**Azure Synapse Studio:**"
   ]
  },
  {
   "cell_type": "markdown",
   "id": "832ce94f",
   "metadata": {},
   "source": [
    "* > azure portal integrated to manage azure synapse, data ingestion(Azure data factory), management of azure synapse assests(SQL Pools/ Spark Pool)"
   ]
  },
  {
   "cell_type": "markdown",
   "id": "fe44acc4",
   "metadata": {},
   "source": [
    "**Knowledge Sql** "
   ]
  },
  {
   "cell_type": "markdown",
   "id": "d26f3289",
   "metadata": {},
   "source": [
    "> * Create Database, tables, vies, etc."
   ]
  },
  {
   "cell_type": "markdown",
   "id": "02b5ff0f",
   "metadata": {},
   "source": [
    "**Azure CLI** "
   ]
  },
  {
   "cell_type": "markdown",
   "id": "70af8b2a",
   "metadata": {},
   "source": [
    "> * Support operations SQL cmd to connect to Microsoft server Azure SQL dataand run a talk queries  and commands"
   ]
  },
  {
   "cell_type": "markdown",
   "id": "370a8540",
   "metadata": {},
   "source": [
    "**HDinsights**"
   ]
  },
  {
   "cell_type": "markdown",
   "id": "9f89bad2",
   "metadata": {},
   "source": [
    "> * Streaming data via Apache Kafka or Apache Spark Appling ELT jobs via HIVE,PIG, Apache Spark"
   ]
  },
  {
   "cell_type": "markdown",
   "id": "86bee0ae",
   "metadata": {},
   "source": [
    "**Azure Databricks**"
   ]
  },
  {
   "cell_type": "markdown",
   "id": "20cef3e2",
   "metadata": {},
   "source": [
    "> * Using Apache Spark to create ELT or streaming jobs to dataware houses or data lakes\n"
   ]
  },
  {
   "cell_type": "markdown",
   "id": "b9c0aa74",
   "metadata": {},
   "source": [
    "### Data Analyst Common Tools"
   ]
  },
  {
   "cell_type": "markdown",
   "id": "fe24c8d3",
   "metadata": {},
   "source": [
    "> * _Power bi Desktop_: A standalone application for data visualization you can do modeling , connect to many data sources, Create interactive repots.\n",
    "\n",
    "> * _Power bi Portal/ Power bi services_ : A web ui for creating interactive dashboards\n",
    "\n",
    "> * _Power bi Report builder_: Create paginated reports(printable reports)"
   ]
  },
  {
   "cell_type": "markdown",
   "id": "60eb21ae",
   "metadata": {},
   "source": [
    "### Data Overview"
   ]
  },
  {
   "cell_type": "markdown",
   "id": "624580b6",
   "metadata": {},
   "source": [
    " > * Data - units of information\n",
    "    > * Data Documents - Types of abstract grouping of data\n",
    "        > * Data sets - unstructured logical grouping of data\n",
    "            > * Data Structures - structure data\n",
    "                > * Data Types - how single units of data are intended to used"
   ]
  },
  {
   "cell_type": "markdown",
   "id": "c21043cc",
   "metadata": {},
   "source": [
    "### Introduction to Data"
   ]
  },
  {
   "cell_type": "markdown",
   "id": "8565b7b9",
   "metadata": {},
   "source": [
    "**What is data?**\n",
    "> * Data is units of information that could be in the form of number, text or machine code, images, videos, audio or physical(handwriting)."
   ]
  },
  {
   "cell_type": "markdown",
   "id": "82ea0683",
   "metadata": {},
   "source": [
    "###### **What are data documents?**\n",
    " A data documents defines the collective form in which data exists. Common types of data documents:\n",
    "> * **Datasets** - a logical grouping of data\n",
    "> * **Databases** - structured data that can be quickly access and searched\n",
    "> * **Datastores** - unstructured or semi-structured data to housing data\n",
    "> * **Data Warehouses** - structured or semi-structured data for creating reports and analytics\n",
    "> * **Notebooks** - data that is arranged in pages, designed for easy consumption"
   ]
  },
  {
   "cell_type": "markdown",
   "id": "737f9704",
   "metadata": {},
   "source": [
    "### Data sets\n",
    "**What is a Dataset**?\n",
    "> * A dataset is a **logical grouping of units** of data that generally are closely realted and/or share the same data structure.\n",
    "there are publicly available data sets that are used in the learning of statistics, data analytics, machine learning\n",
    " >> **MNIST DATABASE** Images of handwritten digits used to test classification, clustering, and image processing algorithm.\n",
    "     >> **Common Objects in Context(COCO)** dataset, a dataset which contains many common images using a JSON file (coco format) that indentify objects or segments within an image."
   ]
  },
  {
   "cell_type": "markdown",
   "id": "d88fa605",
   "metadata": {},
   "source": [
    "**What is a data types?**\n",
    ">> A data type is a single unit of data that tells a compiler or interpreter(computer program) how data is intended to be used.\n",
    "        >> * _Numeric data types_: A data type involving mathematical numbers.\n",
    "             >>> * **Integer** - a whole number(negative or positive) - 100, 7, 11, 213454\n",
    "             >>> * **Float** - a number that has a decimal e.g. 1.5, 2.2 , 10.4\n",
    "        >> * _Text Data types_ - a data type that contains readable and non readable letters.\n",
    "             >>> * **Character** - a single letter, alphanumeric(A-Z), digit(0-9), blank space, punction, special character($%&*@)\n",
    "            >>> * **String** - a sequence of character. e.g. words, sentences and paragraphs\n",
    "        >> * _Composite_: a data types that contains cells of data that can be accessed via an index or a key\n",
    "             >>> * **Array** - a group of elements that contain the same data type, can be accessed via their index(position)\n",
    "             >>> * **Hash (Dictionary)** - a group of elements where a key can be used retrive a value\n",
    "        >> * _Binary Data Types_ : represented by a **bit or a series of bits(a byte)**, Which is either 0(off) or 1 (on)\n",
    "        >> some languages represents a Boolean as\n",
    "             >>> * a bit as a Boolean eg. 0(false) or 1(true)\n",
    "             >>> * the first letter eg. t(true) or f(false)\n",
    "             >>> * e.g **my_bool = True**\n",
    "        >> * _Enummeration (Enum) Data Type_ - a group of constant (unchangeble) variables e.g. DIAMOND, SPADE, HEART, CLUBS\n",
    "             >>> * Can be a data type and/or a data structure, varies on the language.\n",
    "             "
   ]
  },
  {
   "cell_type": "code",
   "execution_count": null,
   "id": "5e202101",
   "metadata": {},
   "outputs": [],
   "source": [
    "## example of Enum\n",
    "class Shake(Enum):\n",
    "    VANILLA = 7\n",
    "    CHOCOLATE = 4\n",
    "    COOKIES = 9\n",
    "    MINT = 3\n",
    "Shake.VANILLA\n",
    "Shake.CHO"
   ]
  },
  {
   "cell_type": "markdown",
   "id": "9781eb4b",
   "metadata": {},
   "source": [
    "### Schema vs Schemaless"
   ]
  },
  {
   "cell_type": "markdown",
   "id": "a849df9b",
   "metadata": {},
   "source": [
    "**What is a schema?**\n",
    "> * A schema(in terms of databases) is a **formal language which describe the structure of data**(blueprint) of a database.\n",
    "A schema can define many different data structures that serve different purposes for a database.\n",
    "\n",
    "Different data structures(relational databases):\n",
    "> * Tables    \n",
    "> * Fields\n",
    "> * Relationships\n",
    "> * Views\n",
    "> * Indexes\n",
    "> * Packages\n",
    "> * Procedures\n",
    "> * Functions\n",
    "> * XML schemas\n",
    "> * Queues\n",
    "> * Triggers\n",
    "> * types\n",
    "> * Sequences\n",
    "> * materiallized views\n",
    "> * Synonyms\n",
    "> * database links\n",
    "> * Directories"
   ]
  },
  {
   "cell_type": "markdown",
   "id": "ef5b9bfb",
   "metadata": {},
   "source": [
    "**What is a schemaless?** \n",
    "> Schemaless is when the **primary \"cell\" of database can accept many types.**\n",
    "This allow developers to forgo upfront data modeling.\n",
    "\n",
    "> Common schemaless databases are:\n",
    "> * Key/Value\n",
    "> * Document\n",
    "> * Columns\n",
    ">>* Wide Column\n",
    "> * Graph"
   ]
  },
  {
   "cell_type": "markdown",
   "id": "f6fc91e3",
   "metadata": {},
   "source": [
    "### Query and Querying\n",
    "\n",
    "> **What is Query?**\n",
    ">> A query is request for data results(reads) or to perform operations such as inserting, updating, deleting data(writes).\n",
    ">> A query can perform maintenance operations on the data and is not always restricted to just working with the data that resides within the database.\n",
    "\n",
    "> **What is a data result?**\n",
    ">> Results are the data returned from a query.\n",
    "\n",
    "> **What is querying?**\n",
    ">> That act of performing a query.\n",
    "\n",
    "> **What is query language?**\n",
    ">> A scripting or programming language designed as the format to submit a request or actions to the database. e.g. SQL, GraphSQL, kusto, Xpath, Gremlin"
   ]
  },
  {
   "cell_type": "markdown",
   "id": "15f0ac7a",
   "metadata": {},
   "source": [
    "### Batch vs Stream processing\n",
    "\n",
    "**_Batch Processing_**\n",
    "> * When you send batches (a collection) of data to be processed.\n",
    "> * Baches are generally scheduled: e.g Every day at 1pm\n",
    "> * Baches are not real-time\n",
    "> * Baches processing is ideal for very large processing workloads\n",
    "> * Batch processing is more cost-effective\n",
    "\n",
    "**_Stream Processing_**\n",
    "\n",
    "WHEN you process data as soon as it arrives:\n",
    ">> * produces will send data to a stream and \n",
    ">> * Consumers will pull from the stream\n",
    "\n",
    "**Stream processing is good for real time analytics or real-time processing(streaming video) Much more expensive than batch processing**"
   ]
  },
  {
   "cell_type": "markdown",
   "id": "5dc1d41f",
   "metadata": {},
   "source": [
    "### Relational Data"
   ]
  },
  {
   "cell_type": "markdown",
   "id": "2143c183",
   "metadata": {},
   "source": [
    "A logical grouping of rows and columns. Think like a Excel spreadsheet\n",
    ">> * _Tabular data_ - data that makes use of table data structures.\n",
    ">> * _Views_ - Views is a result set of a stored query on data stored in memory(a temporary or virtual table)\n",
    ">> * _Materialized Views_ - Material Views is result set of stored query on data stored on disk\n",
    ">> * _Indexes_ - a copy of your data sorted by one or multiple columns for faster reads at the cost of storage\n",
    ">> * _Constraints_ - rules applied to writes , that can ensure data integrity: e.g. don't allow duplicate records.\n",
    ">> * _Triggers_ - A function that trigger a specific database events.\n",
    ">> * _Primary key_ - one or multiple columns that uniquely identify a table in a row eg.id,customer_id etc.\n",
    ">>* _Forgien Key_ - a column which holds the alue of primary key from another key to establish a relationship\n",
    ">>> * A relationship is when two tables have a reference to one another to join together"
   ]
  },
  {
   "cell_type": "code",
   "execution_count": null,
   "id": "3190af7d",
   "metadata": {},
   "outputs": [],
   "source": []
  }
 ],
 "metadata": {
  "kernelspec": {
   "display_name": "Python 3 (ipykernel)",
   "language": "python",
   "name": "python3"
  },
  "language_info": {
   "codemirror_mode": {
    "name": "ipython",
    "version": 3
   },
   "file_extension": ".py",
   "mimetype": "text/x-python",
   "name": "python",
   "nbconvert_exporter": "python",
   "pygments_lexer": "ipython3",
   "version": "3.9.7"
  }
 },
 "nbformat": 4,
 "nbformat_minor": 5
}
